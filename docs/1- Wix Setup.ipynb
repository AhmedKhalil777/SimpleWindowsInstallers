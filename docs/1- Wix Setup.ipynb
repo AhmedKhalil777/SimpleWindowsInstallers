{
 "cells": [
  {
   "cell_type": "markdown",
   "metadata": {
    "dotnet_interactive": {
     "language": "csharp"
    }
   },
   "source": [
    "# What is WIX\n",
    "\n",
    ">  A set of tools to create a windows installer \n",
    "[Read More](https://wixtoolset.org/)\n",
    "\n",
    "## Wix Setup\n",
    "\n",
    "> When installing WIX, you must install the tools provided on windows that (build, generate) the installer [](https://wixtoolset.org/releases/)\n",
    "\n",
    "![](2022-05-07-09-01-28.png)\n",
    "\n",
    "- Open the Link and download the exe installer source \n",
    "- Open the exe and start installation\n",
    "- ![](2022-05-07-09-03-56.png)\n",
    "- You can build your installer natively or you can install VS Extensions for WIX \n",
    "- ![](2022-05-07-10-25-18.png)"
   ]
  },
  {
   "cell_type": "markdown",
   "metadata": {},
   "source": []
  }
 ],
 "metadata": {
  "kernelspec": {
   "display_name": ".NET (C#)",
   "language": "C#",
   "name": ".net-csharp"
  },
  "language_info": {
   "file_extension": ".cs",
   "mimetype": "text/x-csharp",
   "name": "C#",
   "pygments_lexer": "csharp",
   "version": "9.0"
  },
  "orig_nbformat": 4
 },
 "nbformat": 4,
 "nbformat_minor": 2
}
